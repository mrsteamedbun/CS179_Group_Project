{
 "cells": [
  {
   "cell_type": "markdown",
   "id": "0f9f77a1",
   "metadata": {
    "id": "43b7d466"
   },
   "source": [
    "# CS179 Group Project\n",
    "### Due: Wed, June 12 2024 (11:59 PM)"
   ]
  },
  {
   "cell_type": "code",
   "execution_count": null,
   "id": "797fde89",
   "metadata": {},
   "outputs": [],
   "source": [
    "import matplotlib.pyplot as plt\n",
    "\n",
    "import pyGMs as gm\n",
    "import numpy as np\n",
    "import torch\n",
    "import random\n",
    "import pandas as pd\n",
    "\n",
    "import requests                                      # reading data\n",
    "from io import StringIO\n",
    "import time\n",
    "\n",
    "import pyro\n",
    "import pyro.infer\n",
    "import pyro.optim\n",
    "import pyro.distributions as dist\n",
    "import torch.distributions.constraints as constraints\n",
    "import pyro.poutine as poutine\n",
    "\n",
    "from IPython.display import display, clear_output  # for iterative plotting\n",
    "\n",
    "seed = 123\n",
    "random.seed(seed)\n",
    "pyro.set_rng_seed(seed)"
   ]
  },
  {
   "cell_type": "markdown",
   "id": "ac89b952-da29-4bda-9d55-31ab74d49131",
   "metadata": {},
   "source": [
    "### Data Processing\n",
    "---"
   ]
  },
  {
   "cell_type": "code",
   "execution_count": null,
   "id": "9b9e0f3c-8fd5-4bd1-9c54-af612f575888",
   "metadata": {},
   "outputs": [],
   "source": [
    "# READ DATA\n",
    "file_path = '.\\\\2023_LoL_esports_match_data_from_OraclesElixir.csv'\n",
    "data = pd.read_csv(file_path, low_memory=False)"
   ]
  },
  {
   "cell_type": "code",
   "execution_count": null,
   "id": "6b07777e-2e89-4e29-9aa5-f8b1625e8ed0",
   "metadata": {},
   "outputs": [],
   "source": [
    "# DATA ANALYSIS\n",
    "\n",
    "# Completeness Information\n",
    "completeness_categories = data['datacompleteness'].unique()\n",
    "completeness_values = []\n",
    "for completeness in completeness_categories:\n",
    "    completeness_values.append(data[data['datacompleteness'] == completeness].shape[0])\n",
    "    \n",
    "plt.figure()\n",
    "plt.bar(completeness_categories, completeness_values)\n",
    "plt.xlabel(\"Completeness\")\n",
    "plt.ylabel(\"Frequency\")\n",
    "plt.title(\"Data Completeness\")\n",
    "plt.show()\n",
    "\n",
    "# League Information\n",
    "league_categories = data['league'].unique()\n",
    "league_values = []\n",
    "for league in league_categories:\n",
    "    league_values.append(data[(data['league'] == league) & (data['datacompleteness'] == 'complete')].shape[0])\n",
    "\n",
    "top_5_freq_leagues = sorted(zip(league_categories, league_values), key=lambda x: x[1], reverse=True)[:5]\n",
    "\n",
    "league_categories = [league for league, _ in top_5_freq_leagues]\n",
    "league_values = [count for _, count in top_5_freq_leagues]\n",
    "\n",
    "plt.figure()\n",
    "plt.bar(league_categories, league_values)\n",
    "plt.xlabel(\"League\")\n",
    "plt.ylabel(\"Frequency\")\n",
    "plt.title(\"League Information\")\n",
    "plt.show()\n",
    "\n",
    "\n",
    "# Position Information\n",
    "position_categories = data['position'].unique()\n",
    "position_values = []\n",
    "for position in position_categories:\n",
    "    position_values.append(data[(data['position'] == position) & (data['datacompleteness'] == 'complete') & (data['league'] == 'NACL')].shape[0])\n",
    "    \n",
    "plt.figure()\n",
    "plt.bar(position_categories, position_values)\n",
    "plt.xlabel(\"Position\")\n",
    "plt.ylabel(\"Frequency\")\n",
    "plt.title(\"Position Information\")\n",
    "plt.show()"
   ]
  },
  {
   "cell_type": "code",
   "execution_count": null,
   "id": "f5bb1e36-303c-445f-a9c4-630f5c050e70",
   "metadata": {},
   "outputs": [],
   "source": [
    "# TEAM MATCHES (not used yet)\n",
    "team_data = data[(data['datacompleteness'] == 'complete') & \n",
    "                     (data['league'] == 'LCK') & \n",
    "                     (data['position'] == 'team')]\n",
    "\n",
    "teams = team_data['teamname'].value_counts()\n",
    "\n",
    "game_results = []\n",
    "game_ids = team_data['gameid'].unique()\n",
    "\n",
    "for gameid in game_ids:\n",
    "    game = team_data[team_data['gameid'] == gameid]\n",
    "    team1 = game[game['result'] == 1]['teamname'].values[0]\n",
    "    team2 = game[game['result'] == 0]['teamname'].values[0]\n",
    "    # Team 1 beats Team 2\n",
    "    game_results.append((team1, team2))"
   ]
  },
  {
   "cell_type": "code",
   "execution_count": null,
   "id": "432848c7-e1a2-4267-aa20-efb772113891",
   "metadata": {},
   "outputs": [],
   "source": [
    "# PLAYER DATA CALCULATIONS \n",
    "\n",
    "def normalize_by_position(df, column, role):\n",
    "    role_data = df[df['position'] == role]\n",
    "    mean = role_data[column].mean()\n",
    "    std = role_data[column].std()\n",
    "    df.loc[df['position'] == role, column] = (df[df['position'] == role][column] - mean) / std\n",
    "\n",
    "\n",
    "player_data = data[(data['datacompleteness'] == 'complete') & \n",
    "                   (data['league'] == 'LCK') & \n",
    "                   (data['position'].isin(['top', 'jng', 'mid', 'bot', 'sup']))]\n",
    "\n",
    "\n",
    "relevant_columns = ['gameid', 'playername', 'teamname', 'position', 'xpdiffat15', 'golddiffat15', 'damageshare', 'result']\n",
    "missing_values = player_data[relevant_columns].isnull().sum()\n",
    "player_data = player_data[relevant_columns].dropna()\n",
    "\n",
    "\n",
    "roles = player_data['position'].unique()\n",
    "metrics = ['xpdiffat15', 'golddiffat15', 'damageshare']\n",
    "\n",
    "for position in roles:\n",
    "    for metric in metrics:\n",
    "        normalize_by_position(player_data, metric, position)\n",
    "\n",
    "X = torch.tensor(player_data[['xpdiffat15', 'golddiffat15', 'damageshare']].values, dtype=torch.float)"
   ]
  },
  {
   "cell_type": "code",
   "execution_count": null,
   "id": "b325ec7f-8ce0-4fb0-8b55-a66bda134991",
   "metadata": {},
   "outputs": [],
   "source": [
    "# MODEL\n",
    "pyro.get_param_store().clear()\n",
    "\n",
    "def model(xpdiffat15, golddiffat15, damageshare):\n",
    "    with pyro.plate(\"data\", len(xpdiffat15)):\n",
    "        skill = pyro.sample('skill', dist.Normal(0, 1))\n",
    "        pyro.sample('xpdiffat15', dist.Normal(skill, 1), obs=xpdiffat15)\n",
    "        pyro.sample('golddiffat15', dist.Normal(skill, 1), obs=golddiffat15)\n",
    "        pyro.sample('damageshare', dist.Normal(skill, 0.5), obs=damageshare)\n",
    "\n",
    "def guide(xpdiffat15, golddiffat15, damageshare):\n",
    "    skill_mean = pyro.param('skill_mean', torch.tensor(0.0))\n",
    "    skill_std = pyro.param('skill_std', torch.tensor(1.0), constraint=dist.constraints.positive)\n",
    "    with pyro.plate(\"data\", len(xpdiffat15)):\n",
    "        pyro.sample('skill', dist.Normal(skill_mean, skill_std))"
   ]
  },
  {
   "cell_type": "code",
   "execution_count": null,
   "id": "2616c5f6-dc43-4535-b218-eb34ed88c5d1",
   "metadata": {},
   "outputs": [],
   "source": [
    "# TRAINING\n",
    "optimizer = pyro.optim.Adam({'lr': 0.01})\n",
    "svi = pyro.infer.SVI(model, guide, optimizer, loss=pyro.infer.Trace_ELBO())\n",
    "\n",
    "losses = []\n",
    "start_time = time.time()\n",
    "\n",
    "# Train loop\n",
    "num_steps = 10000\n",
    "for step in range(num_steps):\n",
    "    loss = svi.step(X[:, 0], X[:, 1], X[:, 2])\n",
    "    if step % 100 == 0:\n",
    "        losses.append(loss)\n",
    "        clear_output(wait=True)\n",
    "        plt.figure()\n",
    "        plt.plot(losses)\n",
    "        plt.xlabel(\"Step Count (In 100's)\")\n",
    "        plt.ylabel(\"Loss\")\n",
    "        plt.title(\"Loss Over Steps\")\n",
    "        plt.show()\n",
    "\n",
    "end_time = time.time()\n",
    "print(f\"Execution time: {end_time - start_time} seconds\")\n"
   ]
  },
  {
   "cell_type": "code",
   "execution_count": null,
   "id": "866fff45-1138-440e-ba72-62788a0aa6a3",
   "metadata": {},
   "outputs": [],
   "source": [
    "# ANALYSIS\n",
    "skill_mean = pyro.param('skill_mean').item()\n",
    "skill_std = pyro.param('skill_std').item()\n",
    "\n",
    "print(f\"Estimated skill: Mean = {skill_mean}, Std = {skill_std}\")"
   ]
  },
  {
   "cell_type": "code",
   "execution_count": null,
   "id": "1cf4b644-b3cd-4133-9da5-cf49b09f1b02",
   "metadata": {},
   "outputs": [],
   "source": [
    "# INDIVIDUAL PLAYER SKILL ANALYSIS\n",
    "player_skills = []\n",
    "for i in range(len(player_data)):\n",
    "    xpdiffat15 = torch.tensor([X[i, 0]])\n",
    "    golddiffat15 = torch.tensor([X[i, 1]])\n",
    "    damageshare = torch.tensor([X[i, 2]])\n",
    "    with torch.no_grad():\n",
    "        guide_trace = pyro.poutine.trace(guide).get_trace(xpdiffat15, golddiffat15, damageshare)\n",
    "        skill = guide_trace.nodes['skill']['value'].item()\n",
    "        player_skills.append(skill)\n",
    "\n",
    "player_data['estimated_skill'] = player_skills\n",
    "\n",
    "aggregated_skills = player_data.groupby('playername').agg(\n",
    "    estimated_skill=('estimated_skill', 'mean'),\n",
    "    num_games=('playername', 'count'),\n",
    "    wins=('result', lambda x: (x == 1).sum()),\n",
    "    teamname = ('teamname', lambda x: ', '.join(x.unique())),\n",
    "    xp_diff = ('xpdiffat15', 'mean'),\n",
    "    good_diff = ('golddiffat15', 'mean'),\n",
    "    damage_share = ('damageshare', 'mean')\n",
    ").reset_index()\n",
    "\n",
    "sorted_players = aggregated_skills.sort_values(by='estimated_skill', ascending=False)\n",
    "\n",
    "print(sorted_players.to_string(index=False))"
   ]
  },
  {
   "cell_type": "code",
   "execution_count": null,
   "id": "9e3554fa-7c01-48c3-b99b-a7770ce6cb64",
   "metadata": {},
   "outputs": [],
   "source": [
    "# Histogram (Just drawing based on the estimated skill mean and standard deviation, not the actual data)\n",
    "skill_distribution = torch.normal(mean=skill_mean, std=skill_std, size=(10000,))\n",
    "plt.hist(skill_distribution.numpy(), bins=50, label='Estimated Skill')\n",
    "plt.xlabel('Skill')\n",
    "plt.ylabel('Frequency')\n",
    "plt.title('Estimated Skill')\n",
    "plt.autoscale(enable=True, axis='x', tight=True)\n",
    "plt.show()"
   ]
  },
  {
   "cell_type": "code",
   "execution_count": null,
   "id": "455cf877-5dae-4d65-b392-fdb633b4f220",
   "metadata": {},
   "outputs": [],
   "source": []
  }
 ],
 "metadata": {
  "colab": {
   "provenance": []
  },
  "kernelspec": {
   "display_name": "cs179_venv",
   "language": "python",
   "name": "cs179_venv"
  },
  "language_info": {
   "codemirror_mode": {
    "name": "ipython",
    "version": 3
   },
   "file_extension": ".py",
   "mimetype": "text/x-python",
   "name": "python",
   "nbconvert_exporter": "python",
   "pygments_lexer": "ipython3",
   "version": "3.11.9"
  }
 },
 "nbformat": 4,
 "nbformat_minor": 5
}
