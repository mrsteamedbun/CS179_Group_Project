{
 "cells": [
  {
   "cell_type": "markdown",
   "id": "0f9f77a1",
   "metadata": {
    "id": "43b7d466"
   },
   "source": [
    "# CS179 Group Project\n",
    "### Due: Wed, June 12 2024 (11:59 PM)"
   ]
  },
  {
   "metadata": {},
   "cell_type": "code",
   "outputs": [],
   "execution_count": 1,
   "source": [
    "import matplotlib.pyplot as plt\n",
    "\n",
    "import pyGMs as gm\n",
    "import numpy as np\n",
    "import torch\n",
    "import random\n",
    "\n",
    "import requests                                      # reading data\n",
    "from io import StringIO\n",
    "import time\n",
    "\n",
    "import pyro\n",
    "import pyro.infer\n",
    "import pyro.optim\n",
    "import pyro.distributions as dist\n",
    "import torch.distributions.constraints as constraints\n",
    "import pyro.poutine as poutine\n",
    "\n",
    "from IPython.display import display, clear_output  # for iterative plotting\n",
    "\n",
    "seed = 123\n",
    "random.seed(seed)\n",
    "pyro.set_rng_seed(seed)"
   ],
   "id": "797fde89"
  }
 ],
 "metadata": {
  "colab": {
   "provenance": []
  },
  "kernelspec": {
   "display_name": "cs179_venv",
   "language": "python",
   "name": "cs179_venv"
  },
  "language_info": {
   "codemirror_mode": {
    "name": "ipython",
    "version": 3
   },
   "file_extension": ".py",
   "mimetype": "text/x-python",
   "name": "python",
   "nbconvert_exporter": "python",
   "pygments_lexer": "ipython3",
   "version": "3.12.2"
  }
 },
 "nbformat": 4,
 "nbformat_minor": 5
}
